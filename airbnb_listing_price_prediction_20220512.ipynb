{
 "cells": [
  {
   "cell_type": "markdown",
   "id": "111c9360-1480-4680-b7d5-c15dca274466",
   "metadata": {},
   "source": [
    "## Prices Prediction for new Airbnb Hosts in Bay Area\n",
    "\n",
    "This notebook focuses on data EDA, feature engineering & preprocssing and modeling on listing price decisions of a new airbnb host from Bay area. \n"
   ]
  },
  {
   "cell_type": "code",
   "execution_count": null,
   "id": "e01f44e0-e17c-4ecd-aefd-15e7dfbd00cd",
   "metadata": {},
   "outputs": [],
   "source": [
    "import pandas as pd\n",
    "import numpy as np\n",
    "from geopy.distance import great_circle\n",
    "import matplotlib.pyplot as plt\n",
    "plt.style.use('seaborn')\n",
    "import seaborn as sns\n",
    "import re\n",
    "import xgboost as xgb\n",
    "from sklearn.model_selection import GridSearchCV\n",
    "from sklearn.model_selection import train_test_split\n",
    "from sklearn.metrics import mean_squared_error, r2_score\n",
    "from sklearn.preprocessing import StandardScaler\n",
    "from sklearn import linear_model\n",
    "import statsmodels.api as sm\n",
    "from collections import Counter\n",
    "import pickle\n",
    "import shap\n",
    "shap.initjs()\n",
    "import warnings\n",
    "warnings.filterwarnings(\"ignore\")\n",
    "\n",
    "\n",
    "pd.set_option('display.max_rows', None)\n",
    "pd.set_option('display.max_colwidth', -1) "
   ]
  },
  {
   "cell_type": "code",
   "execution_count": null,
   "id": "29a94910-811a-4200-9a38-230bf11f32ef",
   "metadata": {},
   "outputs": [],
   "source": []
  },
  {
   "cell_type": "markdown",
   "id": "67f73969-c511-4ce7-a4c4-1362f2766fe7",
   "metadata": {},
   "source": [
    "#### 1.1 Read in the data and explore the data"
   ]
  },
  {
   "cell_type": "code",
   "execution_count": null,
   "id": "b41473df-c375-4cb0-b6e1-e74169895bbb",
   "metadata": {},
   "outputs": [],
   "source": [
    "df_listings = pd.read_excel('dr.xlsx',index_col=0)\n",
    "print(\"The dataset has {} rows and {} columns.\".format(*df_listings.shape))\n",
    "print(\"The dataset contains {} duplicates.\".format(df_listings.duplicated().sum()))"
   ]
  },
  {
   "cell_type": "code",
   "execution_count": null,
   "id": "d5725c22-e961-406f-adbc-b2bb3a2a058e",
   "metadata": {},
   "outputs": [],
   "source": [
    "ids = df_listings.index\n",
    "df_listings[ids.isin(ids[ids.duplicated()])]"
   ]
  },
  {
   "cell_type": "code",
   "execution_count": null,
   "id": "54d942d8-0035-4653-9ff3-dc7f31b31924",
   "metadata": {},
   "outputs": [],
   "source": [
    "df_listings.head(5).T"
   ]
  },
  {
   "cell_type": "code",
   "execution_count": null,
   "id": "e2db09d3-d04e-4bbc-98c0-84ea4efc0747",
   "metadata": {},
   "outputs": [],
   "source": [
    "df_listings.columns.values"
   ]
  },
  {
   "cell_type": "markdown",
   "id": "c29c9f19-9919-468c-bf68-4455fe66c3c2",
   "metadata": {},
   "source": [
    "#### 1.2 Select potential features based on availablity for new Airbnb host and intuition when people search for an airbnb."
   ]
  },
  {
   "cell_type": "code",
   "execution_count": null,
   "id": "17ea4a83-8d7c-473f-8e32-0bc5331565dd",
   "metadata": {},
   "outputs": [],
   "source": [
    "# identify potential useful columns\n",
    "columns_to_keep = ['Weight','dim group1','UPS Ground DR','Freight DR']"
   ]
  },
  {
   "cell_type": "code",
   "execution_count": null,
   "id": "b39df9d2-f1d8-452d-94b1-4910eb572add",
   "metadata": {},
   "outputs": [],
   "source": [
    "df_raw = df_listings[columns_to_keep]\n",
    "print(\"The dataset has {} rows and {} columns - after dropping irrelevant columns.\".format(*df_raw.shape))"
   ]
  },
  {
   "cell_type": "code",
   "execution_count": null,
   "id": "322db344-89fb-494e-a9ee-9f20bd22f491",
   "metadata": {},
   "outputs": [],
   "source": [
    "df_raw.head()"
   ]
  },
  {
   "cell_type": "code",
   "execution_count": null,
   "id": "ba0be948-061e-489e-a08f-9a0f6b70f95a",
   "metadata": {},
   "outputs": [],
   "source": [
    "df_raw.isna().sum()"
   ]
  },
  {
   "cell_type": "code",
   "execution_count": null,
   "id": "03fe4008-614a-483a-9778-f4e9644f41cf",
   "metadata": {},
   "outputs": [],
   "source": [
    "df_raw.dropna(inplace=True)"
   ]
  },
  {
   "cell_type": "code",
   "execution_count": null,
   "id": "0f276c6b-4f9b-4445-84bb-2cd31ad37ce2",
   "metadata": {},
   "outputs": [],
   "source": [
    "df_raw.isna().sum()"
   ]
  },
  {
   "cell_type": "code",
   "execution_count": null,
   "id": "809b1abb-14ab-46a8-8080-f4ceb541a0fd",
   "metadata": {},
   "outputs": [],
   "source": [
    "df_raw['Weight'].plot(kind='box', xlim=(0, 200), vert=False, flierprops=dict(markerfacecolor='r', markeredgecolor='r', marker='x'), figsize=(18,2));"
   ]
  },
  {
   "cell_type": "code",
   "execution_count": null,
   "id": "5a3eef61-0b69-440b-afa8-a6926d66ae0e",
   "metadata": {},
   "outputs": [],
   "source": [
    "df_raw['dim group1'].plot(kind='box', xlim=(0, 200), vert=False, flierprops=dict(markerfacecolor='r', markeredgecolor='r', marker='x'), figsize=(18,2));"
   ]
  },
  {
   "cell_type": "code",
   "execution_count": null,
   "id": "38d7e7ee-c335-465e-8c87-1ed230161063",
   "metadata": {},
   "outputs": [],
   "source": [
    "df_raw['UPS Ground DR'].plot(kind='box', xlim=(0, 1), vert=False, flierprops=dict(markerfacecolor='r', markeredgecolor='r', marker='x'), figsize=(18,2));"
   ]
  },
  {
   "cell_type": "code",
   "execution_count": null,
   "id": "8ef30d8c-dc57-434a-ace2-967448c9e0cc",
   "metadata": {},
   "outputs": [],
   "source": [
    "df_raw['Freight DR'].plot(kind='box', xlim=(0, 0.1), vert=False, flierprops=dict(markerfacecolor='r', markeredgecolor='r', marker='x'), figsize=(18,2));"
   ]
  },
  {
   "cell_type": "code",
   "execution_count": null,
   "id": "c6e35ff5-7a10-4251-996b-6d277f681e17",
   "metadata": {},
   "outputs": [],
   "source": [
    "df1 = df_raw[df_raw['Weight']>50]"
   ]
  },
  {
   "cell_type": "code",
   "execution_count": null,
   "id": "c34baf54-68d1-4855-8e0c-d49435c9dfac",
   "metadata": {},
   "outputs": [],
   "source": [
    "df1.plot(x='Weight', y='UPS Ground DR', style='o')"
   ]
  },
  {
   "cell_type": "markdown",
   "id": "3dbac9e7-9fdc-4e69-bfb8-2904f83d0453",
   "metadata": {},
   "source": [
    "#### 1.3 Clean Pricing data"
   ]
  },
  {
   "cell_type": "code",
   "execution_count": null,
   "id": "b998a0a0-5d69-4bd7-8130-68c5037f48ab",
   "metadata": {},
   "outputs": [],
   "source": [
    "df_raw[['price','security_deposit', 'cleaning_fee', 'extra_people']].head(5)"
   ]
  },
  {
   "cell_type": "code",
   "execution_count": null,
   "id": "0bb5c5c5-d8ce-47fa-a7f0-dbd5d2798d76",
   "metadata": {},
   "outputs": [],
   "source": [
    "df_raw[['price','security_deposit', 'cleaning_fee', 'extra_people']].isna().sum()"
   ]
  },
  {
   "cell_type": "markdown",
   "id": "93118de0-d629-4132-9573-338dc6167f01",
   "metadata": {},
   "source": [
    "It makes sense to assume that missing values for 'security_deposit' and 'cleaning_fee' are '$0', because the airbnb does not charge 'security_deposit' and 'cleaning_fee'"
   ]
  },
  {
   "cell_type": "code",
   "execution_count": null,
   "id": "091ea92d-7505-4dc3-9db7-c27e9136da4f",
   "metadata": {},
   "outputs": [],
   "source": [
    "df_raw.fillna({'security_deposit':'$0.00','cleaning_fee':'$0.00' }, inplace=True)"
   ]
  },
  {
   "cell_type": "code",
   "execution_count": null,
   "id": "015af582-d3ff-4e7c-b3e1-54d49f3f68da",
   "metadata": {},
   "outputs": [],
   "source": [
    "df_raw[['price','security_deposit', 'cleaning_fee', 'extra_people']].isna().sum()"
   ]
  },
  {
   "cell_type": "code",
   "execution_count": null,
   "id": "547542cf-ca03-4c05-bba5-fc1cae5ae689",
   "metadata": {
    "tags": []
   },
   "outputs": [],
   "source": [
    "df_raw.price = df_raw.price.str.replace('$', '').str.replace(',', '').astype(float)\n",
    "df_raw.security_deposit = df_raw.security_deposit.str.replace('$', '').str.replace(',', '').astype(float)\n",
    "df_raw.cleaning_fee = df_raw.cleaning_fee.str.replace('$', '').str.replace(',', '').astype(float)\n",
    "df_raw.extra_people = df_raw.extra_people.str.replace('$', '').str.replace(',', '').astype(float)"
   ]
  },
  {
   "cell_type": "code",
   "execution_count": null,
   "id": "02534290-5752-455b-9aba-2589b02dac53",
   "metadata": {},
   "outputs": [],
   "source": [
    "df_raw['price'].plot(kind='box', xlim=(0, 1000), vert=False, flierprops=dict(markerfacecolor='r', markeredgecolor='r', marker='x'), figsize=(18,2));"
   ]
  },
  {
   "cell_type": "code",
   "execution_count": null,
   "id": "2ade2510-ecad-44d2-bc88-650a67f45457",
   "metadata": {},
   "outputs": [],
   "source": [
    "df_raw.drop(df_raw[(df_raw.price > 400) | (df_raw.price == 0)].index, axis=0, inplace=True)\n",
    "print(\"The dataset has {} rows and {} columns - after being price-wise preprocessed.\".format(*df_raw.shape))"
   ]
  },
  {
   "cell_type": "code",
   "execution_count": null,
   "id": "beb2d090-2cf4-4939-b2d1-c236a90f5b61",
   "metadata": {},
   "outputs": [],
   "source": [
    "plt.hist(df_raw['UPS Ground DR'],bins=100, density = True, \n",
    "         histtype ='bar', color = 'blue')  \n",
    "plt.title('Histogram of price')  \n",
    "plt.show()"
   ]
  },
  {
   "cell_type": "markdown",
   "id": "c0bda6d6-9192-4e75-b30f-1d4a7461363f",
   "metadata": {},
   "source": [
    "#### 1.4 Explore realationship between price and other key features"
   ]
  },
  {
   "cell_type": "code",
   "execution_count": null,
   "id": "d3ca4fb5-6223-4691-9cf9-6e060a01e817",
   "metadata": {},
   "outputs": [],
   "source": [
    "df_raw.room_type.value_counts(normalize=True)"
   ]
  },
  {
   "cell_type": "code",
   "execution_count": null,
   "id": "8c3e0205-cbea-4562-882f-351716ddbe24",
   "metadata": {},
   "outputs": [],
   "source": [
    "df_raw.boxplot(column='price', by='room_type', \n",
    "           flierprops=dict(markerfacecolor='y', markeredgecolor='y', marker='o'), vert=True, figsize=(10,8))\n",
    "plt.xlabel('Room_type', fontsize=12)\n",
    "plt.ylabel('Price', fontsize=12)\n",
    "plt.title('Price vs Room_type', fontsize=14, fontweight='bold')\n",
    "plt.suptitle('');"
   ]
  },
  {
   "cell_type": "markdown",
   "id": "d7f742ac-c8cb-456f-9e70-0560917eed26",
   "metadata": {},
   "source": [
    "#### Significant price difference could be identified for different room types. "
   ]
  },
  {
   "cell_type": "code",
   "execution_count": null,
   "id": "179557aa-e2aa-4e25-9f44-d8601e3839b1",
   "metadata": {},
   "outputs": [],
   "source": [
    "df_raw.property_type.value_counts(normalize=True)"
   ]
  },
  {
   "cell_type": "code",
   "execution_count": null,
   "id": "3e0b7dc1-1977-42f2-b9fa-e72679ef2a87",
   "metadata": {},
   "outputs": [],
   "source": [
    "df_raw.plot(kind=\"scatter\", x=\"longitude\", y=\"latitude\", alpha=0.5, figsize=(10,8), \n",
    "        c=\"price\", cmap=\"gist_heat_r\", colorbar=True, sharex=False);"
   ]
  },
  {
   "cell_type": "markdown",
   "id": "6b0ebf50-c9cc-47ec-88a7-d50539320a20",
   "metadata": {},
   "source": [
    "#### Create a new distance feature based on the distance of the location to center of the city."
   ]
  },
  {
   "cell_type": "code",
   "execution_count": null,
   "id": "9d8da246-d92a-4a1b-86ae-ea633ffa7b38",
   "metadata": {},
   "outputs": [],
   "source": [
    "def distance_to_mid(lat, lon):\n",
    "    city_centre = (37.45, -122.15)\n",
    "    accommodation = (lat, lon)\n",
    "    return great_circle(city_centre, accommodation).mi"
   ]
  },
  {
   "cell_type": "code",
   "execution_count": null,
   "id": "b0ce21f1-2c48-4806-a0dd-52394377c5cb",
   "metadata": {},
   "outputs": [],
   "source": [
    "df_raw['distance'] = df_raw.apply(lambda x: distance_to_mid(x.latitude, x.longitude), axis=1)"
   ]
  },
  {
   "cell_type": "code",
   "execution_count": null,
   "id": "499b679d-92bf-470e-987f-a7df9fc61987",
   "metadata": {},
   "outputs": [],
   "source": [
    "sns.set(rc={'figure.figsize':(20,10)})\n",
    "viz = sns.violinplot(data=df_raw, x='neighbourhood_cleansed', y='price')\n",
    "viz.set_xticklabels(viz.get_xticklabels(), rotation=90)\n",
    "viz.set_title('Density and distribution of prices for each neighberhood')"
   ]
  },
  {
   "cell_type": "code",
   "execution_count": null,
   "id": "3b5bc4a3-d043-4e59-9d76-6e65328f9ef5",
   "metadata": {},
   "outputs": [],
   "source": [
    "df_raw.boxplot(column='price', by='cancellation_policy', \n",
    "           flierprops=dict(markerfacecolor='g', markeredgecolor='g', marker='.'), vert=True, figsize=(10,8))\n",
    "plt.xlabel('Policy', fontsize=12)\n",
    "plt.ylabel('Price', fontsize=12)\n",
    "plt.title('Prices by cancellation_policy', fontsize=14, fontweight='bold')\n",
    "plt.suptitle('');"
   ]
  },
  {
   "cell_type": "markdown",
   "id": "4a214098-a731-495d-a87f-ce8197bb6a30",
   "metadata": {},
   "source": [
    "Probably not significant difference among different policies."
   ]
  },
  {
   "cell_type": "code",
   "execution_count": null,
   "id": "bb2272ca-f944-4529-8323-a48853bd3d5e",
   "metadata": {},
   "outputs": [],
   "source": [
    "df_raw.isna().sum()"
   ]
  },
  {
   "cell_type": "markdown",
   "id": "c53f6c92-b31d-45a3-8d81-4c84367426d7",
   "metadata": {},
   "source": [
    "### 1.5 Drop columns with too many missing values"
   ]
  },
  {
   "cell_type": "code",
   "execution_count": null,
   "id": "1b87cb67-6cc2-4088-a4c2-f13940215d22",
   "metadata": {},
   "outputs": [],
   "source": [
    "df_raw.drop(columns=['space','square_feet', 'review_scores_rating'], inplace=True)\n",
    "df_raw.dropna(subset=['bathrooms', 'bedrooms'], inplace=True)\n",
    "print(\"The dataset has {} rows and {} columns.\".format(*df_raw.shape))"
   ]
  },
  {
   "cell_type": "code",
   "execution_count": null,
   "id": "3279f504-2d9d-4e60-979a-29f79392a52c",
   "metadata": {},
   "outputs": [],
   "source": [
    "df_raw.isna().sum()"
   ]
  },
  {
   "cell_type": "code",
   "execution_count": null,
   "id": "fa8f4d0a-6f9e-4763-8142-bed1296c1619",
   "metadata": {},
   "outputs": [],
   "source": [
    "df_raw.head(2).T"
   ]
  },
  {
   "cell_type": "markdown",
   "id": "467251da-be0d-49bd-85df-57d90fc9fa9d",
   "metadata": {},
   "source": [
    "#### 1.6 Feature engineering on 'ameninites'"
   ]
  },
  {
   "cell_type": "code",
   "execution_count": null,
   "id": "4d665d1c-c98a-4b13-9a78-2320c6824112",
   "metadata": {},
   "outputs": [],
   "source": [
    "results = Counter()\n",
    "df_raw['amenities'].str.strip('{}')\\\n",
    "               .str.replace('\"', '')\\\n",
    "               .str.lstrip('\\\"')\\\n",
    "               .str.rstrip('\\\"')\\\n",
    "               .str.split(',')\\\n",
    "               .apply(results.update)\n",
    "\n",
    "results.most_common(50)"
   ]
  },
  {
   "cell_type": "code",
   "execution_count": null,
   "id": "26b1bd3c-f571-42b4-8d2d-11975023be94",
   "metadata": {},
   "outputs": [],
   "source": [
    "df_raw['Laptop_friendly_workspace'] = df_raw['amenities'].str.contains('Laptop friendly workspace')\n",
    "df_raw['TV'] = df_raw['amenities'].str.contains('TV')\n",
    "df_raw['Free_parking'] = df_raw['amenities'].str.contains('Free parking on premises|Free street parking')\n",
    "df_raw['Family_kid_friendly'] = df_raw['amenities'].str.contains('Family/kid friendly')\n",
    "df_raw['Pool'] = df_raw['amenities'].str.contains('Pool')\n",
    "df_raw['Pets_allowed']= df_raw['amenities'].str.contains('Pets allowed')\n",
    "df_raw['Smoking_allowed'] = df_raw['amenities'].str.contains('Smoking allowed')"
   ]
  },
  {
   "cell_type": "code",
   "execution_count": null,
   "id": "7b9f8b60-b534-4339-bf3e-a9ae814deaaf",
   "metadata": {},
   "outputs": [],
   "source": [
    "df_raw.info()"
   ]
  },
  {
   "cell_type": "markdown",
   "id": "f90ff8ba-2e8e-46e5-b767-258ef8bbf77e",
   "metadata": {},
   "source": [
    "#### 1.7 Converte the type of categorical features"
   ]
  },
  {
   "cell_type": "code",
   "execution_count": null,
   "id": "74adf568-948f-496f-8113-505666d86b72",
   "metadata": {},
   "outputs": [],
   "source": [
    "for col in ['host_has_profile_pic', 'neighbourhood_cleansed','room_type','host_is_superhost', 'property_type', 'bed_type', 'instant_bookable', \n",
    "            'is_business_travel_ready', 'cancellation_policy']:\n",
    "    df_raw[col] = df_raw[col].astype('category')"
   ]
  },
  {
   "cell_type": "code",
   "execution_count": null,
   "id": "0f910513-90f2-4b54-b21b-1ba4b14d2855",
   "metadata": {},
   "outputs": [],
   "source": [
    "df_raw.info()"
   ]
  },
  {
   "cell_type": "markdown",
   "id": "232e304b-94e0-46a6-a558-afcdc7e95899",
   "metadata": {},
   "source": [
    "### 2.1 Prepare data for model development"
   ]
  },
  {
   "cell_type": "code",
   "execution_count": null,
   "id": "2222f1f3-0fc8-4869-b065-473a5203b6b3",
   "metadata": {},
   "outputs": [],
   "source": [
    "target = df_raw[[\"price\"]]\n",
    "features = df_raw.drop([\"price\"], axis=1)"
   ]
  },
  {
   "cell_type": "code",
   "execution_count": null,
   "id": "831fa21e-a544-4d06-a922-2607e485997c",
   "metadata": {},
   "outputs": [],
   "source": [
    "num_feats = features.select_dtypes(include=['float64', 'int64', 'bool']).copy()\n",
    "cat_feats = features.select_dtypes(include=['category']).copy()\n",
    "cat_feats = pd.get_dummies(cat_feats)\n",
    "features = pd.concat([num_feats, cat_feats], axis=1)\n",
    "print(features.shape)\n",
    "features.head(5)"
   ]
  },
  {
   "cell_type": "markdown",
   "id": "acfe8691-a01b-450a-a362-8dc36c85cdcb",
   "metadata": {},
   "source": [
    "#### 2.2 Split the train and test data set"
   ]
  },
  {
   "cell_type": "code",
   "execution_count": null,
   "id": "4cfd4f30-6ebd-4d71-bef8-2cef89545fce",
   "metadata": {},
   "outputs": [],
   "source": [
    "X_train, X_test, y_train, y_test = train_test_split(features, target, test_size=0.2)"
   ]
  },
  {
   "cell_type": "code",
   "execution_count": null,
   "id": "efcd306c-9ba7-47df-9e11-a3922ff5e202",
   "metadata": {},
   "outputs": [],
   "source": [
    "sc = StandardScaler()\n",
    "X_train = sc.fit_transform(X_train)\n",
    "X_test  = sc.transform(X_test)"
   ]
  },
  {
   "cell_type": "markdown",
   "id": "ad8f199f-7912-4232-9f39-96b4d097bea9",
   "metadata": {},
   "source": [
    "#### 2.3 Train a baseline linear regression with L1 regularization and xgboost model "
   ]
  },
  {
   "cell_type": "code",
   "execution_count": null,
   "id": "eb5de71e-2fdb-4855-826c-791e9b753667",
   "metadata": {},
   "outputs": [],
   "source": [
    "clr = linear_model.Lasso(alpha= 0.1)\n",
    "clr.fit(X_train, y_train)\n",
    "y_train_pred0 = clr.predict(X_train)\n",
    "y_test_pred0 = clr.predict(X_test)"
   ]
  },
  {
   "cell_type": "code",
   "execution_count": null,
   "id": "9759a046-19f2-4e38-8d3c-f8495e3933f9",
   "metadata": {},
   "outputs": [],
   "source": [
    "RMSE0 = np.sqrt(mean_squared_error(y_test, y_test_pred0))\n",
    "print(f\"RMSE: {round(RMSE0, 4)}\")\n",
    "r20 = r2_score(y_test, y_test_pred0)\n",
    "print(f\"r2: {round(r20, 4)}\")"
   ]
  },
  {
   "cell_type": "code",
   "execution_count": null,
   "id": "72ba0a7f-6d3b-4ef2-b6de-a00a2580217a",
   "metadata": {},
   "outputs": [],
   "source": [
    "# create a baseline xgboost model\n",
    "xgb_model = xgb.XGBRegressor()\n",
    "xgb_model.fit(X_train, y_train)\n",
    "y_pred_train = xgb_model.predict(X_train)\n",
    "y_pred_test = xgb_model.predict(X_test)"
   ]
  },
  {
   "cell_type": "code",
   "execution_count": null,
   "id": "ed138070-beb5-400c-b275-2a4542e0a7c7",
   "metadata": {},
   "outputs": [],
   "source": [
    "RMSE = np.sqrt(mean_squared_error(y_test, y_pred_test))\n",
    "print(f\"RMSE: {round(RMSE, 4)}\")\n",
    "r2 = r2_score(y_test, y_pred_test)\n",
    "print(f\"r2: {round(r2, 4)}\")"
   ]
  },
  {
   "cell_type": "markdown",
   "id": "0b6bc84b-d033-4f06-8bd7-d45fe122b9e6",
   "metadata": {},
   "source": [
    "The XGBoost model perform much better than the linear regression model"
   ]
  },
  {
   "cell_type": "markdown",
   "id": "ece312be-0986-42ee-b558-2c50e718b80d",
   "metadata": {},
   "source": [
    "#### 2.4 Grid search of xgboost model with cross-validation"
   ]
  },
  {
   "cell_type": "code",
   "execution_count": null,
   "id": "a32ab2b9-eb7a-4e38-902a-81632bf75e7f",
   "metadata": {},
   "outputs": [],
   "source": [
    "param_grid = {'n_estimators': [100, 150, 200],\n",
    "              'learning_rate': [0.01, 0.05, 0.1], \n",
    "              'max_depth': [3, 5, 7, 9],\n",
    "              'colsample_bytree': [0.4,0.6, 0.7, 1],\n",
    "              'gamma': [0.0, 0.1, 0.2]}\n",
    "\n",
    "xgb_model_grid_search = GridSearchCV(xgb_model, param_grid, cv=5, n_jobs=-1)\n",
    "xgb_model_grid_search.fit(X_train, y_train)\n",
    "print(xgb_model_grid_search.best_params_)"
   ]
  },
  {
   "cell_type": "code",
   "execution_count": null,
   "id": "67c390d6-fe5d-4034-ae09-4dd39520a239",
   "metadata": {},
   "outputs": [],
   "source": [
    "xgb_model = xgb.XGBRegressor(colsample_bytree=0.4, gamma=0.1, learning_rate=0.05, \n",
    "                           max_depth=9, n_estimators=200, random_state=3)\n",
    "\n",
    "xgb_model.fit(X_train, y_train)\n",
    "y_pred_train = xgb_model.predict(X_train)\n",
    "y_pred_test = xgb_model.predict(X_test)"
   ]
  },
  {
   "cell_type": "code",
   "execution_count": null,
   "id": "c360bf52-cf59-4cf8-86e7-128c3e8fd847",
   "metadata": {},
   "outputs": [],
   "source": [
    "pickle.dump(xgb_model, open('xgboost_model.pickle', 'wb'))"
   ]
  },
  {
   "cell_type": "code",
   "execution_count": null,
   "id": "99f42181-2046-4177-84c3-dcbd53949fc1",
   "metadata": {},
   "outputs": [],
   "source": [
    "RMSE = np.sqrt(mean_squared_error(y_test, y_pred_test))\n",
    "print(f\"RMSE: {round(RMSE, 4)}\")\n",
    "r2 = r2_score(y_test, y_pred_test)\n",
    "print(f\"r2: {round(r2, 4)}\")"
   ]
  },
  {
   "cell_type": "markdown",
   "id": "1c95235d-7017-42bc-a56f-08e200b8a1bd",
   "metadata": {},
   "source": [
    "#### Generate CV result using selected hyperparameter"
   ]
  },
  {
   "cell_type": "code",
   "execution_count": null,
   "id": "946aa0bd-9121-4693-a24a-892d0ae4d152",
   "metadata": {},
   "outputs": [],
   "source": [
    "xg_train = xgb.DMatrix(data=X_train, label=y_train)"
   ]
  },
  {
   "cell_type": "code",
   "execution_count": null,
   "id": "4131fc58-c1bb-43c1-a943-5e974236321f",
   "metadata": {},
   "outputs": [],
   "source": [
    "params = {'colsample_bytree':0.4, 'gamma':0.1, 'learning_rate':0.05, 'max_depth':9}\n",
    "\n",
    "cv_results = xgb.cv(dtrain=xg_train, params=params, nfold=5,\n",
    "                    num_boost_round=200, early_stopping_rounds=10, \n",
    "                    metrics=\"rmse\", as_pandas=True)"
   ]
  },
  {
   "cell_type": "code",
   "execution_count": null,
   "id": "3302da61-6493-4f23-82ba-2b4ab0a5fb76",
   "metadata": {},
   "outputs": [],
   "source": [
    "cv_results.head()"
   ]
  },
  {
   "cell_type": "code",
   "execution_count": null,
   "id": "d780ee48-13d9-43a4-be66-75d399b2f756",
   "metadata": {},
   "outputs": [],
   "source": [
    "cv_results.tail()"
   ]
  },
  {
   "cell_type": "code",
   "execution_count": null,
   "id": "d886378f-7bcd-4c86-acb5-f32414cff4b7",
   "metadata": {},
   "outputs": [],
   "source": [
    "# plot the important features\n",
    "feat_importances = pd.Series(booster.feature_importances_, index=features.columns)\n",
    "feat_importances.nlargest(20).sort_values().plot(kind='barh', color='darkgrey', figsize=(10,5))\n",
    "plt.xlabel('Relative Feature Importance with XGBoost');"
   ]
  },
  {
   "cell_type": "markdown",
   "id": "b3cf573f-da4f-4b60-9630-a8e3909c51ef",
   "metadata": {},
   "source": [
    "#### 3.1 Create SHAP explainer"
   ]
  },
  {
   "cell_type": "code",
   "execution_count": null,
   "id": "17e607a3-de09-4a74-b45b-3a7d7d7307dc",
   "metadata": {},
   "outputs": [],
   "source": [
    "shap.initjs()"
   ]
  },
  {
   "cell_type": "code",
   "execution_count": null,
   "id": "f35b2335-1b35-4eed-a896-2e6a21694c7e",
   "metadata": {},
   "outputs": [],
   "source": [
    "explainer = shap.TreeExplainer(booster)\n",
    "shap_values = explainer.shap_values(X_train)"
   ]
  },
  {
   "cell_type": "code",
   "execution_count": null,
   "id": "a2310f1a-4e20-4dbe-aeac-c90cf7d98c2b",
   "metadata": {},
   "outputs": [],
   "source": [
    "shap.force_plot(explainer.expected_value, shap_values, X_train,feature_names = features.columns)"
   ]
  },
  {
   "cell_type": "code",
   "execution_count": null,
   "id": "7d9637e4-555f-45cf-9655-576836e1f86f",
   "metadata": {},
   "outputs": [],
   "source": [
    "\n",
    "shap.summary_plot(shap_values, X_train,feature_names = features.columns)"
   ]
  },
  {
   "cell_type": "code",
   "execution_count": null,
   "id": "c5f1d3a4-f291-4d3e-b882-fc0c33fca3f5",
   "metadata": {},
   "outputs": [],
   "source": [
    "shap.summary_plot(shap_values, X_train, plot_type=\"bar\",feature_names = features.columns)"
   ]
  },
  {
   "cell_type": "code",
   "execution_count": null,
   "id": "ab873477-5b75-46cf-81c7-5f59ff88007c",
   "metadata": {},
   "outputs": [],
   "source": [
    "x = list(range(46,500))"
   ]
  },
  {
   "cell_type": "code",
   "execution_count": null,
   "id": "f697a6f6-9f6d-4e21-866d-396ae4829267",
   "metadata": {},
   "outputs": [],
   "source": [
    "x = [_/100 for _ in x]"
   ]
  },
  {
   "cell_type": "code",
   "execution_count": null,
   "id": "6f2c4f85-dd6b-4372-bb76-d39727c1da86",
   "metadata": {},
   "outputs": [],
   "source": [
    "def relate(x):\n",
    "    y = 0.000443*x**2+0.0487*100+0.073331-0.016356*100*x**(1/3)\n",
    "    return y"
   ]
  },
  {
   "cell_type": "code",
   "execution_count": null,
   "id": "4a079fe3-39b8-4777-8aa4-4239fab1e518",
   "metadata": {},
   "outputs": [],
   "source": [
    "y = list(map(relate,x))"
   ]
  },
  {
   "cell_type": "code",
   "execution_count": null,
   "id": "bbe6df5b-166c-4626-b976-763b1937316d",
   "metadata": {},
   "outputs": [],
   "source": [
    "y"
   ]
  },
  {
   "cell_type": "code",
   "execution_count": null,
   "id": "b0a4e8c5-9da7-4a1b-a496-6ed1786c952d",
   "metadata": {},
   "outputs": [],
   "source": []
  }
 ],
 "metadata": {
  "kernelspec": {
   "display_name": "Python 3 (ipykernel)",
   "language": "python",
   "name": "python3"
  },
  "language_info": {
   "codemirror_mode": {
    "name": "ipython",
    "version": 3
   },
   "file_extension": ".py",
   "mimetype": "text/x-python",
   "name": "python",
   "nbconvert_exporter": "python",
   "pygments_lexer": "ipython3",
   "version": "3.8.12"
  }
 },
 "nbformat": 4,
 "nbformat_minor": 5
}
